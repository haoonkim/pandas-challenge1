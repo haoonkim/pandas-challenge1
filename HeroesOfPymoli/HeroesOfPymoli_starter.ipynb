{
 "cells": [
  {
   "cell_type": "markdown",
   "metadata": {},
   "source": [
    "### Note\n",
    "* Instructions have been included for each segment. You do not have to follow them exactly, but they are included to help you think through the steps."
   ]
  },
  {
   "cell_type": "code",
   "execution_count": 3,
   "metadata": {},
   "outputs": [],
   "source": [
    "# Dependencies and Setup\n",
    "import pandas as pd\n",
    "\n",
    "# File to Load (Remember to Change These)\n",
    "file_to_load = ('Resources\\purchase_data.csv')\n",
    "\n",
    "# Read Purchasing File and store into Pandas data frame\n",
    "purchase_data = pd.read_csv(file_to_load)\n"
   ]
  },
  {
   "cell_type": "markdown",
   "metadata": {},
   "source": [
    "## Player Count"
   ]
  },
  {
   "cell_type": "markdown",
   "metadata": {},
   "source": [
    "* Display the total number of players\n"
   ]
  },
  {
   "cell_type": "code",
   "execution_count": 2,
   "metadata": {},
   "outputs": [
    {
     "data": {
      "text/html": [
       "<div>\n",
       "<style scoped>\n",
       "    .dataframe tbody tr th:only-of-type {\n",
       "        vertical-align: middle;\n",
       "    }\n",
       "\n",
       "    .dataframe tbody tr th {\n",
       "        vertical-align: top;\n",
       "    }\n",
       "\n",
       "    .dataframe thead th {\n",
       "        text-align: right;\n",
       "    }\n",
       "</style>\n",
       "<table border=\"1\" class=\"dataframe\">\n",
       "  <thead>\n",
       "    <tr style=\"text-align: right;\">\n",
       "      <th></th>\n",
       "      <th>Total Players</th>\n",
       "    </tr>\n",
       "  </thead>\n",
       "  <tbody>\n",
       "    <tr>\n",
       "      <td>0</td>\n",
       "      <td>576</td>\n",
       "    </tr>\n",
       "  </tbody>\n",
       "</table>\n",
       "</div>"
      ],
      "text/plain": [
       "   Total Players\n",
       "0            576"
      ]
     },
     "execution_count": 2,
     "metadata": {},
     "output_type": "execute_result"
    }
   ],
   "source": [
    "#calculate lengh of 'SN' to count total number of players\n",
    "players = len(purchase_data[\"SN\"].unique())\n",
    "\n",
    "#set table\n",
    "players_table = pd.DataFrame({\"Total Players\": [len(purchase_data.SN.unique())]})\n",
    "players_table\n",
    "\n"
   ]
  },
  {
   "cell_type": "markdown",
   "metadata": {},
   "source": [
    "## Purchasing Analysis (Total)"
   ]
  },
  {
   "cell_type": "markdown",
   "metadata": {},
   "source": [
    "* Run basic calculations to obtain number of unique items, average price, etc.\n",
    "\n",
    "\n",
    "* Create a summary data frame to hold the results\n",
    "\n",
    "\n",
    "* Optional: give the displayed data cleaner formatting\n",
    "\n",
    "\n",
    "* Display the summary data frame\n"
   ]
  },
  {
   "cell_type": "code",
   "execution_count": 3,
   "metadata": {},
   "outputs": [
    {
     "data": {
      "text/html": [
       "<div>\n",
       "<style scoped>\n",
       "    .dataframe tbody tr th:only-of-type {\n",
       "        vertical-align: middle;\n",
       "    }\n",
       "\n",
       "    .dataframe tbody tr th {\n",
       "        vertical-align: top;\n",
       "    }\n",
       "\n",
       "    .dataframe thead th {\n",
       "        text-align: right;\n",
       "    }\n",
       "</style>\n",
       "<table border=\"1\" class=\"dataframe\">\n",
       "  <thead>\n",
       "    <tr style=\"text-align: right;\">\n",
       "      <th></th>\n",
       "      <th>Number of Unique Items</th>\n",
       "      <th>Average Price</th>\n",
       "      <th>Number of Purchases</th>\n",
       "      <th>Total Revenue</th>\n",
       "    </tr>\n",
       "  </thead>\n",
       "  <tbody>\n",
       "    <tr>\n",
       "      <td>0</td>\n",
       "      <td>183</td>\n",
       "      <td>$3.05</td>\n",
       "      <td>780</td>\n",
       "      <td>$2,379.77</td>\n",
       "    </tr>\n",
       "  </tbody>\n",
       "</table>\n",
       "</div>"
      ],
      "text/plain": [
       "   Number of Unique Items Average Price  Number of Purchases Total Revenue\n",
       "0                     183         $3.05                  780     $2,379.77"
      ]
     },
     "execution_count": 3,
     "metadata": {},
     "output_type": "execute_result"
    }
   ],
   "source": [
    "#calculate the number of unique items in the DataFrame\n",
    "item_count = len(purchase_data[\"Item ID\"].unique())\n",
    "\n",
    "#calculate the average price\n",
    "average_price = purchase_data[\"Price\"].mean()\n",
    "\n",
    "#calculate total number of purchases\n",
    "total_purchase = len(purchase_data[\"Purchase ID\"])\n",
    "\n",
    "#calculate total revenue\n",
    "total_revenue = purchase_data[\"Price\"].sum()\n",
    "\n",
    "#set summmary table and format\n",
    "summary_table = pd.DataFrame({\"Number of Unique Items\": item_count, \"Average Price\": \"${:.2f}\".format(average_price), \"Number of Purchases\": total_purchase, \"Total Revenue\": \"${:,.2f}\".format(total_revenue)\n",
    "},index=[0])\n",
    "\n",
    "summary_table\n"
   ]
  },
  {
   "cell_type": "markdown",
   "metadata": {},
   "source": [
    "## Gender Demographics"
   ]
  },
  {
   "cell_type": "markdown",
   "metadata": {},
   "source": [
    "* Percentage and Count of Male Players\n",
    "\n",
    "\n",
    "* Percentage and Count of Female Players\n",
    "\n",
    "\n",
    "* Percentage and Count of Other / Non-Disclosed\n",
    "\n",
    "\n"
   ]
  },
  {
   "cell_type": "code",
   "execution_count": 245,
   "metadata": {},
   "outputs": [
    {
     "data": {
      "text/html": [
       "<div>\n",
       "<style scoped>\n",
       "    .dataframe tbody tr th:only-of-type {\n",
       "        vertical-align: middle;\n",
       "    }\n",
       "\n",
       "    .dataframe tbody tr th {\n",
       "        vertical-align: top;\n",
       "    }\n",
       "\n",
       "    .dataframe thead th {\n",
       "        text-align: right;\n",
       "    }\n",
       "</style>\n",
       "<table border=\"1\" class=\"dataframe\">\n",
       "  <thead>\n",
       "    <tr style=\"text-align: right;\">\n",
       "      <th></th>\n",
       "      <th>Total Count</th>\n",
       "      <th>Percentage of Players</th>\n",
       "    </tr>\n",
       "    <tr>\n",
       "      <th>Gender</th>\n",
       "      <th></th>\n",
       "      <th></th>\n",
       "    </tr>\n",
       "  </thead>\n",
       "  <tbody>\n",
       "    <tr>\n",
       "      <td>Male</td>\n",
       "      <td>484</td>\n",
       "      <td>84.03%</td>\n",
       "    </tr>\n",
       "    <tr>\n",
       "      <td>Female</td>\n",
       "      <td>81</td>\n",
       "      <td>14.06%</td>\n",
       "    </tr>\n",
       "    <tr>\n",
       "      <td>Other / Non-Disclosed</td>\n",
       "      <td>11</td>\n",
       "      <td>1.91%</td>\n",
       "    </tr>\n",
       "  </tbody>\n",
       "</table>\n",
       "</div>"
      ],
      "text/plain": [
       "                       Total Count Percentage of Players\n",
       "Gender                                                  \n",
       "Male                           484                84.03%\n",
       "Female                          81                14.06%\n",
       "Other / Non-Disclosed           11                 1.91%"
      ]
     },
     "execution_count": 245,
     "metadata": {},
     "output_type": "execute_result"
    }
   ],
   "source": [
    "#group by gender\n",
    "gender = purchase_data.groupby(\"Gender\")\n",
    "\n",
    "#count the number of players by gender\n",
    "gender_count = gender.nunique()[\"SN\"]\n",
    "\n",
    "#calculate percentage of total player\n",
    "gender_percent = gender.nunique()[\"SN\"] / players * 100\n",
    "\n",
    "#set table and format\n",
    "gender_table = pd.DataFrame({\"Total Count\": gender_count, \"Percentage of Players\": gender_percent.map(\"{:.2f}%\".format)\n",
    "})\n",
    "\n",
    "#sort the gender column in order\n",
    "gender_sort = gender_table.sort_values(\"Total Count\", ascending = False)\n",
    "\n",
    "gender_sort\n"
   ]
  },
  {
   "cell_type": "markdown",
   "metadata": {},
   "source": [
    "\n",
    "## Purchasing Analysis (Gender)"
   ]
  },
  {
   "cell_type": "markdown",
   "metadata": {},
   "source": [
    "* Run basic calculations to obtain purchase count, avg. purchase price, avg. purchase total per person etc. by gender\n",
    "\n",
    "\n",
    "\n",
    "\n",
    "* Create a summary data frame to hold the results\n",
    "\n",
    "\n",
    "* Optional: give the displayed data cleaner formatting\n",
    "\n",
    "\n",
    "* Display the summary data frame"
   ]
  },
  {
   "cell_type": "code",
   "execution_count": 239,
   "metadata": {},
   "outputs": [
    {
     "data": {
      "text/html": [
       "<div>\n",
       "<style scoped>\n",
       "    .dataframe tbody tr th:only-of-type {\n",
       "        vertical-align: middle;\n",
       "    }\n",
       "\n",
       "    .dataframe tbody tr th {\n",
       "        vertical-align: top;\n",
       "    }\n",
       "\n",
       "    .dataframe thead th {\n",
       "        text-align: right;\n",
       "    }\n",
       "</style>\n",
       "<table border=\"1\" class=\"dataframe\">\n",
       "  <thead>\n",
       "    <tr style=\"text-align: right;\">\n",
       "      <th></th>\n",
       "      <th>Purchase Count</th>\n",
       "      <th>Average Purchase Price</th>\n",
       "      <th>Total Purchase Value</th>\n",
       "      <th>Avg Purchase Total per Person</th>\n",
       "    </tr>\n",
       "    <tr>\n",
       "      <th>Gender</th>\n",
       "      <th></th>\n",
       "      <th></th>\n",
       "      <th></th>\n",
       "      <th></th>\n",
       "    </tr>\n",
       "  </thead>\n",
       "  <tbody>\n",
       "    <tr>\n",
       "      <td>Female</td>\n",
       "      <td>113</td>\n",
       "      <td>$3.20</td>\n",
       "      <td>$361.94</td>\n",
       "      <td>$4.47</td>\n",
       "    </tr>\n",
       "    <tr>\n",
       "      <td>Male</td>\n",
       "      <td>652</td>\n",
       "      <td>$3.02</td>\n",
       "      <td>$1,967.64</td>\n",
       "      <td>$4.07</td>\n",
       "    </tr>\n",
       "    <tr>\n",
       "      <td>Other / Non-Disclosed</td>\n",
       "      <td>15</td>\n",
       "      <td>$3.35</td>\n",
       "      <td>$50.19</td>\n",
       "      <td>$4.56</td>\n",
       "    </tr>\n",
       "  </tbody>\n",
       "</table>\n",
       "</div>"
      ],
      "text/plain": [
       "                       Purchase Count Average Purchase Price  \\\n",
       "Gender                                                         \n",
       "Female                            113                  $3.20   \n",
       "Male                              652                  $3.02   \n",
       "Other / Non-Disclosed              15                  $3.35   \n",
       "\n",
       "                      Total Purchase Value Avg Purchase Total per Person  \n",
       "Gender                                                                    \n",
       "Female                             $361.94                         $4.47  \n",
       "Male                             $1,967.64                         $4.07  \n",
       "Other / Non-Disclosed               $50.19                         $4.56  "
      ]
     },
     "execution_count": 239,
     "metadata": {},
     "output_type": "execute_result"
    }
   ],
   "source": [
    "#group by gender and count gender and its avg price and total purchase\n",
    "gender_group = purchase_data.groupby(\"Gender\")\n",
    "purchase_count = gender_group[\"Gender\"].count()\n",
    "purchase_avg_price = gender_group[\"Price\"].mean()\n",
    "purchase_value = gender_group[\"Price\"].sum()\n",
    "#avg total purcahse price per person\n",
    "avg_total_person = purchase_value / gender_count\n",
    "\n",
    "\n",
    "#set data table and format\n",
    "gender_data_table = pd.DataFrame({\"Purchase Count\": purchase_count, \"Average Purchase Price\": purchase_avg_price.map(\"${:,.2f}\".format), \"Total Purchase Value\": purchase_value.map(\"${:,.2f}\".format), \"Avg Purchase Total per Person\": avg_total_person.map(\"${:,.2f}\".format)})\n",
    "\n",
    "#add index\n",
    "gender_data_table.index.name = \"Gender\"\n",
    "\n",
    "gender_data_table\n"
   ]
  },
  {
   "cell_type": "markdown",
   "metadata": {},
   "source": [
    "* Establish bins for ages\n",
    "\n",
    "\n",
    "* Categorize the existing players using the age bins. Hint: use pd.cut()\n",
    "\n",
    "\n",
    "* Calculate the numbers and percentages by age group\n",
    "\n",
    "\n",
    "* Create a summary data frame to hold the results\n",
    "\n",
    "\n",
    "* Optional: round the percentage column to two decimal points\n",
    "\n",
    "\n",
    "* Display Age Demographics Table\n"
   ]
  },
  {
   "cell_type": "code",
   "execution_count": 165,
   "metadata": {},
   "outputs": [
    {
     "data": {
      "text/html": [
       "<div>\n",
       "<style scoped>\n",
       "    .dataframe tbody tr th:only-of-type {\n",
       "        vertical-align: middle;\n",
       "    }\n",
       "\n",
       "    .dataframe tbody tr th {\n",
       "        vertical-align: top;\n",
       "    }\n",
       "\n",
       "    .dataframe thead th {\n",
       "        text-align: right;\n",
       "    }\n",
       "</style>\n",
       "<table border=\"1\" class=\"dataframe\">\n",
       "  <thead>\n",
       "    <tr style=\"text-align: right;\">\n",
       "      <th></th>\n",
       "      <th>Total Count</th>\n",
       "      <th>Percentage of Players</th>\n",
       "    </tr>\n",
       "  </thead>\n",
       "  <tbody>\n",
       "    <tr>\n",
       "      <td>&lt;10</td>\n",
       "      <td>17</td>\n",
       "      <td>2.95%</td>\n",
       "    </tr>\n",
       "    <tr>\n",
       "      <td>10-14</td>\n",
       "      <td>22</td>\n",
       "      <td>3.82%</td>\n",
       "    </tr>\n",
       "    <tr>\n",
       "      <td>15-19</td>\n",
       "      <td>107</td>\n",
       "      <td>18.58%</td>\n",
       "    </tr>\n",
       "    <tr>\n",
       "      <td>20-24</td>\n",
       "      <td>258</td>\n",
       "      <td>44.79%</td>\n",
       "    </tr>\n",
       "    <tr>\n",
       "      <td>25-29</td>\n",
       "      <td>77</td>\n",
       "      <td>13.37%</td>\n",
       "    </tr>\n",
       "    <tr>\n",
       "      <td>30-34</td>\n",
       "      <td>52</td>\n",
       "      <td>9.03%</td>\n",
       "    </tr>\n",
       "    <tr>\n",
       "      <td>35-39</td>\n",
       "      <td>31</td>\n",
       "      <td>5.38%</td>\n",
       "    </tr>\n",
       "    <tr>\n",
       "      <td>40+</td>\n",
       "      <td>12</td>\n",
       "      <td>2.08%</td>\n",
       "    </tr>\n",
       "  </tbody>\n",
       "</table>\n",
       "</div>"
      ],
      "text/plain": [
       "       Total Count Percentage of Players\n",
       "<10             17                 2.95%\n",
       "10-14           22                 3.82%\n",
       "15-19          107                18.58%\n",
       "20-24          258                44.79%\n",
       "25-29           77                13.37%\n",
       "30-34           52                 9.03%\n",
       "35-39           31                 5.38%\n",
       "40+             12                 2.08%"
      ]
     },
     "execution_count": 165,
     "metadata": {},
     "output_type": "execute_result"
    }
   ],
   "source": [
    "#make bins and group\n",
    "bins = [0, 9, 14, 19, 24, 29, 34, 39, 9999]\n",
    "bins_group = [\"<10\", \"10-14\", \"15-19\", \"20-24\", \"25-29\", \"30-34\", \"35-39\", \"40+\"]\n",
    "\n",
    "#categolize and group\n",
    "purchase_data[\"Age Ranges\"] = pd.cut(purchase_data[\"Age\"],bins, labels=bins_group)\n",
    "age_group = purchase_data.groupby(\"Age Ranges\")\n",
    "\n",
    "#calculate age count and percentage\n",
    "age_count = age_group[\"SN\"].nunique()\n",
    "age_percent = (total_count_age/players) * 100\n",
    "\n",
    "#set table and format\n",
    "age_table = pd.DataFrame({\"Total Count\": age_count, \"Percentage of Players\": age_percent.map(\"{:.2f}%\".format)})\n",
    "\n",
    "age_table"
   ]
  },
  {
   "cell_type": "markdown",
   "metadata": {},
   "source": [
    "## Purchasing Analysis (Age)"
   ]
  },
  {
   "cell_type": "markdown",
   "metadata": {},
   "source": [
    "* Bin the purchase_data data frame by age\n",
    "\n",
    "\n",
    "* Run basic calculations to obtain purchase count, avg. purchase price, avg. purchase total per person etc. in the table below\n",
    "\n",
    "\n",
    "* Create a summary data frame to hold the results\n",
    "\n",
    "\n",
    "* Optional: give the displayed data cleaner formatting\n",
    "\n",
    "\n",
    "* Display the summary data frame"
   ]
  },
  {
   "cell_type": "code",
   "execution_count": 246,
   "metadata": {},
   "outputs": [
    {
     "data": {
      "text/html": [
       "<div>\n",
       "<style scoped>\n",
       "    .dataframe tbody tr th:only-of-type {\n",
       "        vertical-align: middle;\n",
       "    }\n",
       "\n",
       "    .dataframe tbody tr th {\n",
       "        vertical-align: top;\n",
       "    }\n",
       "\n",
       "    .dataframe thead th {\n",
       "        text-align: right;\n",
       "    }\n",
       "</style>\n",
       "<table border=\"1\" class=\"dataframe\">\n",
       "  <thead>\n",
       "    <tr style=\"text-align: right;\">\n",
       "      <th></th>\n",
       "      <th>Purchase Count</th>\n",
       "      <th>Average Purchase Price</th>\n",
       "      <th>Total Purchase Value</th>\n",
       "      <th>Avg Purchase Total per Person</th>\n",
       "    </tr>\n",
       "    <tr>\n",
       "      <th>Age Ranges</th>\n",
       "      <th></th>\n",
       "      <th></th>\n",
       "      <th></th>\n",
       "      <th></th>\n",
       "    </tr>\n",
       "  </thead>\n",
       "  <tbody>\n",
       "    <tr>\n",
       "      <td>&lt;10</td>\n",
       "      <td>23</td>\n",
       "      <td>$3.35</td>\n",
       "      <td>$77.13</td>\n",
       "      <td>$4.54</td>\n",
       "    </tr>\n",
       "    <tr>\n",
       "      <td>10-14</td>\n",
       "      <td>28</td>\n",
       "      <td>$2.96</td>\n",
       "      <td>$82.78</td>\n",
       "      <td>$3.76</td>\n",
       "    </tr>\n",
       "    <tr>\n",
       "      <td>15-19</td>\n",
       "      <td>136</td>\n",
       "      <td>$3.04</td>\n",
       "      <td>$412.89</td>\n",
       "      <td>$3.86</td>\n",
       "    </tr>\n",
       "    <tr>\n",
       "      <td>20-24</td>\n",
       "      <td>365</td>\n",
       "      <td>$3.05</td>\n",
       "      <td>$1,114.06</td>\n",
       "      <td>$4.32</td>\n",
       "    </tr>\n",
       "    <tr>\n",
       "      <td>25-29</td>\n",
       "      <td>101</td>\n",
       "      <td>$2.90</td>\n",
       "      <td>$293.00</td>\n",
       "      <td>$3.81</td>\n",
       "    </tr>\n",
       "    <tr>\n",
       "      <td>30-34</td>\n",
       "      <td>73</td>\n",
       "      <td>$2.93</td>\n",
       "      <td>$214.00</td>\n",
       "      <td>$4.12</td>\n",
       "    </tr>\n",
       "    <tr>\n",
       "      <td>35-39</td>\n",
       "      <td>41</td>\n",
       "      <td>$3.60</td>\n",
       "      <td>$147.67</td>\n",
       "      <td>$4.76</td>\n",
       "    </tr>\n",
       "    <tr>\n",
       "      <td>40+</td>\n",
       "      <td>13</td>\n",
       "      <td>$2.94</td>\n",
       "      <td>$38.24</td>\n",
       "      <td>$3.19</td>\n",
       "    </tr>\n",
       "  </tbody>\n",
       "</table>\n",
       "</div>"
      ],
      "text/plain": [
       "            Purchase Count Average Purchase Price Total Purchase Value  \\\n",
       "Age Ranges                                                               \n",
       "<10                     23                  $3.35               $77.13   \n",
       "10-14                   28                  $2.96               $82.78   \n",
       "15-19                  136                  $3.04              $412.89   \n",
       "20-24                  365                  $3.05            $1,114.06   \n",
       "25-29                  101                  $2.90              $293.00   \n",
       "30-34                   73                  $2.93              $214.00   \n",
       "35-39                   41                  $3.60              $147.67   \n",
       "40+                     13                  $2.94               $38.24   \n",
       "\n",
       "           Avg Purchase Total per Person  \n",
       "Age Ranges                                \n",
       "<10                                $4.54  \n",
       "10-14                              $3.76  \n",
       "15-19                              $3.86  \n",
       "20-24                              $4.32  \n",
       "25-29                              $3.81  \n",
       "30-34                              $4.12  \n",
       "35-39                              $4.76  \n",
       "40+                                $3.19  "
      ]
     },
     "execution_count": 246,
     "metadata": {},
     "output_type": "execute_result"
    }
   ],
   "source": [
    "#count purchases\n",
    "purchase_count_age = age_group[\"Purchase ID\"].count()\n",
    "\n",
    "#calculate average purchase price\n",
    "avg_price_age = age_group[\"Price\"].mean()\n",
    "\n",
    "#calculate total purchase value\n",
    "total_purchase_value = age_group[\"Price\"].sum()\n",
    "\n",
    "# Calculate the average purchase per person in the age group \n",
    "avg_purchase_per_person_age = total_purchase_value / age_count\n",
    "\n",
    "#set table and format\n",
    "age_data_table = pd.DataFrame({\"Purchase Count\": purchase_count_age, \"Average Purchase Price\": avg_price_age.map(\"${:,.2f}\".format), \"Total Purchase Value\":total_purchase_value.map(\"${:,.2f}\".format), \"Avg Purchase Total per Person\": avg_purchase_per_person_age.map(\"${:,.2f}\".format)})\n",
    "\n",
    "age_data_table\n"
   ]
  },
  {
   "cell_type": "markdown",
   "metadata": {},
   "source": [
    "## Top Spenders"
   ]
  },
  {
   "cell_type": "markdown",
   "metadata": {},
   "source": [
    "* Run basic calculations to obtain the results in the table below\n",
    "\n",
    "\n",
    "* Create a summary data frame to hold the results\n",
    "\n",
    "\n",
    "* Sort the total purchase value column in descending order\n",
    "\n",
    "\n",
    "* Optional: give the displayed data cleaner formatting\n",
    "\n",
    "\n",
    "* Display a preview of the summary data frame\n",
    "\n"
   ]
  },
  {
   "cell_type": "code",
   "execution_count": 172,
   "metadata": {},
   "outputs": [
    {
     "data": {
      "text/html": [
       "<style  type=\"text/css\" >\n",
       "</style><table id=\"T_cfce52a8_5d22_11ea_8a5a_666e698b1ec9\" ><thead>    <tr>        <th class=\"blank level0\" ></th>        <th class=\"col_heading level0 col0\" >Purchase Count</th>        <th class=\"col_heading level0 col1\" >Average Purchase Price</th>        <th class=\"col_heading level0 col2\" >Total Purchase Value</th>    </tr>    <tr>        <th class=\"index_name level0\" >SN</th>        <th class=\"blank\" ></th>        <th class=\"blank\" ></th>        <th class=\"blank\" ></th>    </tr></thead><tbody>\n",
       "                <tr>\n",
       "                        <th id=\"T_cfce52a8_5d22_11ea_8a5a_666e698b1ec9level0_row0\" class=\"row_heading level0 row0\" >Lisosia93</th>\n",
       "                        <td id=\"T_cfce52a8_5d22_11ea_8a5a_666e698b1ec9row0_col0\" class=\"data row0 col0\" >5</td>\n",
       "                        <td id=\"T_cfce52a8_5d22_11ea_8a5a_666e698b1ec9row0_col1\" class=\"data row0 col1\" >$3.79</td>\n",
       "                        <td id=\"T_cfce52a8_5d22_11ea_8a5a_666e698b1ec9row0_col2\" class=\"data row0 col2\" >$18.96</td>\n",
       "            </tr>\n",
       "            <tr>\n",
       "                        <th id=\"T_cfce52a8_5d22_11ea_8a5a_666e698b1ec9level0_row1\" class=\"row_heading level0 row1\" >Idastidru52</th>\n",
       "                        <td id=\"T_cfce52a8_5d22_11ea_8a5a_666e698b1ec9row1_col0\" class=\"data row1 col0\" >4</td>\n",
       "                        <td id=\"T_cfce52a8_5d22_11ea_8a5a_666e698b1ec9row1_col1\" class=\"data row1 col1\" >$3.86</td>\n",
       "                        <td id=\"T_cfce52a8_5d22_11ea_8a5a_666e698b1ec9row1_col2\" class=\"data row1 col2\" >$15.45</td>\n",
       "            </tr>\n",
       "            <tr>\n",
       "                        <th id=\"T_cfce52a8_5d22_11ea_8a5a_666e698b1ec9level0_row2\" class=\"row_heading level0 row2\" >Chamjask73</th>\n",
       "                        <td id=\"T_cfce52a8_5d22_11ea_8a5a_666e698b1ec9row2_col0\" class=\"data row2 col0\" >3</td>\n",
       "                        <td id=\"T_cfce52a8_5d22_11ea_8a5a_666e698b1ec9row2_col1\" class=\"data row2 col1\" >$4.61</td>\n",
       "                        <td id=\"T_cfce52a8_5d22_11ea_8a5a_666e698b1ec9row2_col2\" class=\"data row2 col2\" >$13.83</td>\n",
       "            </tr>\n",
       "            <tr>\n",
       "                        <th id=\"T_cfce52a8_5d22_11ea_8a5a_666e698b1ec9level0_row3\" class=\"row_heading level0 row3\" >Iral74</th>\n",
       "                        <td id=\"T_cfce52a8_5d22_11ea_8a5a_666e698b1ec9row3_col0\" class=\"data row3 col0\" >4</td>\n",
       "                        <td id=\"T_cfce52a8_5d22_11ea_8a5a_666e698b1ec9row3_col1\" class=\"data row3 col1\" >$3.40</td>\n",
       "                        <td id=\"T_cfce52a8_5d22_11ea_8a5a_666e698b1ec9row3_col2\" class=\"data row3 col2\" >$13.62</td>\n",
       "            </tr>\n",
       "            <tr>\n",
       "                        <th id=\"T_cfce52a8_5d22_11ea_8a5a_666e698b1ec9level0_row4\" class=\"row_heading level0 row4\" >Iskadarya95</th>\n",
       "                        <td id=\"T_cfce52a8_5d22_11ea_8a5a_666e698b1ec9row4_col0\" class=\"data row4 col0\" >3</td>\n",
       "                        <td id=\"T_cfce52a8_5d22_11ea_8a5a_666e698b1ec9row4_col1\" class=\"data row4 col1\" >$4.37</td>\n",
       "                        <td id=\"T_cfce52a8_5d22_11ea_8a5a_666e698b1ec9row4_col2\" class=\"data row4 col2\" >$13.10</td>\n",
       "            </tr>\n",
       "    </tbody></table>"
      ],
      "text/plain": [
       "<pandas.io.formats.style.Styler at 0x18fae375088>"
      ]
     },
     "execution_count": 172,
     "metadata": {},
     "output_type": "execute_result"
    }
   ],
   "source": [
    "#group data by name\n",
    "spender_group = purchase_data.groupby(\"SN\")\n",
    "\n",
    "#count spenders purchases\n",
    "spender_purchase = spender_group[\"Purchase ID\"].count()\n",
    "\n",
    "#calculate spenders average purchase price\n",
    "spender_avg_price = spender_group[\"Price\"].mean()\n",
    "\n",
    "#calculate spenders total purchase value\n",
    "spender_total_purchase = spender_group[\"Price\"].sum()\n",
    "\n",
    "#set table\n",
    "spender_table = pd.DataFrame({\"Purchase Count\": spender_purchase, \"Average Purchase Price\": spender_avg_price, \"Total Purchase Value\":spender_total_purchase})\n",
    "\n",
    "#Sort the total purchase value column in descending order\n",
    "spender_head = spender_table.sort_values([\"Total Purchase Value\"], ascending=False)[:5]\n",
    "\n",
    "#format\n",
    "spender_head.style.format({\"Average Purchase Total\":\"${:,.2f}\", \"Average Purchase Price\":\"${:,.2f}\", \"Total Purchase Value\":\"${:,.2f}\"})"
   ]
  },
  {
   "cell_type": "markdown",
   "metadata": {},
   "source": [
    "## Most Popular Items"
   ]
  },
  {
   "cell_type": "markdown",
   "metadata": {},
   "source": [
    "* Retrieve the Item ID, Item Name, and Item Price columns\n",
    "\n",
    "\n",
    "* Group by Item ID and Item Name. Perform calculations to obtain purchase count, item price, and total purchase value\n",
    "\n",
    "\n",
    "* Create a summary data frame to hold the results\n",
    "\n",
    "\n",
    "* Sort the purchase count column in descending order\n",
    "\n",
    "\n",
    "* Optional: give the displayed data cleaner formatting\n",
    "\n",
    "\n",
    "* Display a preview of the summary data frame\n",
    "\n"
   ]
  },
  {
   "cell_type": "code",
   "execution_count": 186,
   "metadata": {},
   "outputs": [
    {
     "data": {
      "text/html": [
       "<style  type=\"text/css\" >\n",
       "</style><table id=\"T_710dbef4_5d2b_11ea_a8fd_666e698b1ec9\" ><thead>    <tr>        <th class=\"blank\" ></th>        <th class=\"blank level0\" ></th>        <th class=\"col_heading level0 col0\" >Purchase Count</th>        <th class=\"col_heading level0 col1\" >Item Price</th>        <th class=\"col_heading level0 col2\" >Total Purchase Value</th>    </tr>    <tr>        <th class=\"index_name level0\" >Item ID</th>        <th class=\"index_name level1\" >Item Name</th>        <th class=\"blank\" ></th>        <th class=\"blank\" ></th>        <th class=\"blank\" ></th>    </tr></thead><tbody>\n",
       "                <tr>\n",
       "                        <th id=\"T_710dbef4_5d2b_11ea_a8fd_666e698b1ec9level0_row0\" class=\"row_heading level0 row0\" >178</th>\n",
       "                        <th id=\"T_710dbef4_5d2b_11ea_a8fd_666e698b1ec9level1_row0\" class=\"row_heading level1 row0\" >Oathbreaker, Last Hope of the Breaking Storm</th>\n",
       "                        <td id=\"T_710dbef4_5d2b_11ea_a8fd_666e698b1ec9row0_col0\" class=\"data row0 col0\" >12</td>\n",
       "                        <td id=\"T_710dbef4_5d2b_11ea_a8fd_666e698b1ec9row0_col1\" class=\"data row0 col1\" >$4.23</td>\n",
       "                        <td id=\"T_710dbef4_5d2b_11ea_a8fd_666e698b1ec9row0_col2\" class=\"data row0 col2\" >$50.76</td>\n",
       "            </tr>\n",
       "            <tr>\n",
       "                        <th id=\"T_710dbef4_5d2b_11ea_a8fd_666e698b1ec9level0_row1\" class=\"row_heading level0 row1\" >145</th>\n",
       "                        <th id=\"T_710dbef4_5d2b_11ea_a8fd_666e698b1ec9level1_row1\" class=\"row_heading level1 row1\" >Fiery Glass Crusader</th>\n",
       "                        <td id=\"T_710dbef4_5d2b_11ea_a8fd_666e698b1ec9row1_col0\" class=\"data row1 col0\" >9</td>\n",
       "                        <td id=\"T_710dbef4_5d2b_11ea_a8fd_666e698b1ec9row1_col1\" class=\"data row1 col1\" >$4.58</td>\n",
       "                        <td id=\"T_710dbef4_5d2b_11ea_a8fd_666e698b1ec9row1_col2\" class=\"data row1 col2\" >$41.22</td>\n",
       "            </tr>\n",
       "            <tr>\n",
       "                        <th id=\"T_710dbef4_5d2b_11ea_a8fd_666e698b1ec9level0_row2\" class=\"row_heading level0 row2\" >108</th>\n",
       "                        <th id=\"T_710dbef4_5d2b_11ea_a8fd_666e698b1ec9level1_row2\" class=\"row_heading level1 row2\" >Extraction, Quickblade Of Trembling Hands</th>\n",
       "                        <td id=\"T_710dbef4_5d2b_11ea_a8fd_666e698b1ec9row2_col0\" class=\"data row2 col0\" >9</td>\n",
       "                        <td id=\"T_710dbef4_5d2b_11ea_a8fd_666e698b1ec9row2_col1\" class=\"data row2 col1\" >$3.53</td>\n",
       "                        <td id=\"T_710dbef4_5d2b_11ea_a8fd_666e698b1ec9row2_col2\" class=\"data row2 col2\" >$31.77</td>\n",
       "            </tr>\n",
       "            <tr>\n",
       "                        <th id=\"T_710dbef4_5d2b_11ea_a8fd_666e698b1ec9level0_row3\" class=\"row_heading level0 row3\" >82</th>\n",
       "                        <th id=\"T_710dbef4_5d2b_11ea_a8fd_666e698b1ec9level1_row3\" class=\"row_heading level1 row3\" >Nirvana</th>\n",
       "                        <td id=\"T_710dbef4_5d2b_11ea_a8fd_666e698b1ec9row3_col0\" class=\"data row3 col0\" >9</td>\n",
       "                        <td id=\"T_710dbef4_5d2b_11ea_a8fd_666e698b1ec9row3_col1\" class=\"data row3 col1\" >$4.90</td>\n",
       "                        <td id=\"T_710dbef4_5d2b_11ea_a8fd_666e698b1ec9row3_col2\" class=\"data row3 col2\" >$44.10</td>\n",
       "            </tr>\n",
       "            <tr>\n",
       "                        <th id=\"T_710dbef4_5d2b_11ea_a8fd_666e698b1ec9level0_row4\" class=\"row_heading level0 row4\" >19</th>\n",
       "                        <th id=\"T_710dbef4_5d2b_11ea_a8fd_666e698b1ec9level1_row4\" class=\"row_heading level1 row4\" >Pursuit, Cudgel of Necromancy</th>\n",
       "                        <td id=\"T_710dbef4_5d2b_11ea_a8fd_666e698b1ec9row4_col0\" class=\"data row4 col0\" >8</td>\n",
       "                        <td id=\"T_710dbef4_5d2b_11ea_a8fd_666e698b1ec9row4_col1\" class=\"data row4 col1\" >$1.02</td>\n",
       "                        <td id=\"T_710dbef4_5d2b_11ea_a8fd_666e698b1ec9row4_col2\" class=\"data row4 col2\" >$8.16</td>\n",
       "            </tr>\n",
       "    </tbody></table>"
      ],
      "text/plain": [
       "<pandas.io.formats.style.Styler at 0x18fae8d7808>"
      ]
     },
     "execution_count": 186,
     "metadata": {},
     "output_type": "execute_result"
    }
   ],
   "source": [
    "#Retrieve the Item ID, Item Name, and Item Price\n",
    "item = purchase_data[[\"Item ID\", \"Item Name\", \"Price\"]]\n",
    "\n",
    "#group by item id and name to summarize\n",
    "item_group = item.groupby([\"Item ID\", \"Item Name\"])\n",
    "\n",
    "#count purchase items\n",
    "item_count = item_group[\"Price\"].count()\n",
    "\n",
    "#calculate total purchase value\n",
    "item_total = item_group[\"Price\"].sum()\n",
    "\n",
    "#calculate item price\n",
    "item_price = item_group[\"Price\"].mean()\n",
    "\n",
    "#set table to display data\n",
    "item_table = pd.DataFrame({\"Purchase Count\": item_count, \"Item Price\": item_price, \"Total Purchase Value\": item_total})\n",
    "\n",
    "#Sort top 5 of the purchase count column in descending order\n",
    "item_sort = item_table.sort_values(\"Purchase Count\", ascending = False)[:5]\n",
    "\n",
    "#format\n",
    "item_sort.style.format({\"Item Price\":\"${:,.2f}\", \"Total Purchase Value\":\"${:,.2f}\"})\n",
    "\n",
    "\n"
   ]
  },
  {
   "cell_type": "markdown",
   "metadata": {},
   "source": [
    "## Most Profitable Items"
   ]
  },
  {
   "cell_type": "markdown",
   "metadata": {},
   "source": [
    "* Sort the above table by total purchase value in descending order\n",
    "\n",
    "\n",
    "* Optional: give the displayed data cleaner formatting\n",
    "\n",
    "\n",
    "* Display a preview of the data frame\n",
    "\n"
   ]
  },
  {
   "cell_type": "code",
   "execution_count": 188,
   "metadata": {},
   "outputs": [
    {
     "data": {
      "text/html": [
       "<style  type=\"text/css\" >\n",
       "</style><table id=\"T_2557f134_5d2c_11ea_8f71_666e698b1ec9\" ><thead>    <tr>        <th class=\"blank\" ></th>        <th class=\"blank level0\" ></th>        <th class=\"col_heading level0 col0\" >Purchase Count</th>        <th class=\"col_heading level0 col1\" >Item Price</th>        <th class=\"col_heading level0 col2\" >Total Purchase Value</th>    </tr>    <tr>        <th class=\"index_name level0\" >Item ID</th>        <th class=\"index_name level1\" >Item Name</th>        <th class=\"blank\" ></th>        <th class=\"blank\" ></th>        <th class=\"blank\" ></th>    </tr></thead><tbody>\n",
       "                <tr>\n",
       "                        <th id=\"T_2557f134_5d2c_11ea_8f71_666e698b1ec9level0_row0\" class=\"row_heading level0 row0\" >178</th>\n",
       "                        <th id=\"T_2557f134_5d2c_11ea_8f71_666e698b1ec9level1_row0\" class=\"row_heading level1 row0\" >Oathbreaker, Last Hope of the Breaking Storm</th>\n",
       "                        <td id=\"T_2557f134_5d2c_11ea_8f71_666e698b1ec9row0_col0\" class=\"data row0 col0\" >12</td>\n",
       "                        <td id=\"T_2557f134_5d2c_11ea_8f71_666e698b1ec9row0_col1\" class=\"data row0 col1\" >$4.23</td>\n",
       "                        <td id=\"T_2557f134_5d2c_11ea_8f71_666e698b1ec9row0_col2\" class=\"data row0 col2\" >$50.76</td>\n",
       "            </tr>\n",
       "            <tr>\n",
       "                        <th id=\"T_2557f134_5d2c_11ea_8f71_666e698b1ec9level0_row1\" class=\"row_heading level0 row1\" >82</th>\n",
       "                        <th id=\"T_2557f134_5d2c_11ea_8f71_666e698b1ec9level1_row1\" class=\"row_heading level1 row1\" >Nirvana</th>\n",
       "                        <td id=\"T_2557f134_5d2c_11ea_8f71_666e698b1ec9row1_col0\" class=\"data row1 col0\" >9</td>\n",
       "                        <td id=\"T_2557f134_5d2c_11ea_8f71_666e698b1ec9row1_col1\" class=\"data row1 col1\" >$4.90</td>\n",
       "                        <td id=\"T_2557f134_5d2c_11ea_8f71_666e698b1ec9row1_col2\" class=\"data row1 col2\" >$44.10</td>\n",
       "            </tr>\n",
       "            <tr>\n",
       "                        <th id=\"T_2557f134_5d2c_11ea_8f71_666e698b1ec9level0_row2\" class=\"row_heading level0 row2\" >145</th>\n",
       "                        <th id=\"T_2557f134_5d2c_11ea_8f71_666e698b1ec9level1_row2\" class=\"row_heading level1 row2\" >Fiery Glass Crusader</th>\n",
       "                        <td id=\"T_2557f134_5d2c_11ea_8f71_666e698b1ec9row2_col0\" class=\"data row2 col0\" >9</td>\n",
       "                        <td id=\"T_2557f134_5d2c_11ea_8f71_666e698b1ec9row2_col1\" class=\"data row2 col1\" >$4.58</td>\n",
       "                        <td id=\"T_2557f134_5d2c_11ea_8f71_666e698b1ec9row2_col2\" class=\"data row2 col2\" >$41.22</td>\n",
       "            </tr>\n",
       "            <tr>\n",
       "                        <th id=\"T_2557f134_5d2c_11ea_8f71_666e698b1ec9level0_row3\" class=\"row_heading level0 row3\" >92</th>\n",
       "                        <th id=\"T_2557f134_5d2c_11ea_8f71_666e698b1ec9level1_row3\" class=\"row_heading level1 row3\" >Final Critic</th>\n",
       "                        <td id=\"T_2557f134_5d2c_11ea_8f71_666e698b1ec9row3_col0\" class=\"data row3 col0\" >8</td>\n",
       "                        <td id=\"T_2557f134_5d2c_11ea_8f71_666e698b1ec9row3_col1\" class=\"data row3 col1\" >$4.88</td>\n",
       "                        <td id=\"T_2557f134_5d2c_11ea_8f71_666e698b1ec9row3_col2\" class=\"data row3 col2\" >$39.04</td>\n",
       "            </tr>\n",
       "            <tr>\n",
       "                        <th id=\"T_2557f134_5d2c_11ea_8f71_666e698b1ec9level0_row4\" class=\"row_heading level0 row4\" >103</th>\n",
       "                        <th id=\"T_2557f134_5d2c_11ea_8f71_666e698b1ec9level1_row4\" class=\"row_heading level1 row4\" >Singed Scalpel</th>\n",
       "                        <td id=\"T_2557f134_5d2c_11ea_8f71_666e698b1ec9row4_col0\" class=\"data row4 col0\" >8</td>\n",
       "                        <td id=\"T_2557f134_5d2c_11ea_8f71_666e698b1ec9row4_col1\" class=\"data row4 col1\" >$4.35</td>\n",
       "                        <td id=\"T_2557f134_5d2c_11ea_8f71_666e698b1ec9row4_col2\" class=\"data row4 col2\" >$34.80</td>\n",
       "            </tr>\n",
       "    </tbody></table>"
      ],
      "text/plain": [
       "<pandas.io.formats.style.Styler at 0x18fae8fdbc8>"
      ]
     },
     "execution_count": 188,
     "metadata": {},
     "output_type": "execute_result"
    }
   ],
   "source": [
    "#sort top 5 of the most profitable items in descending order\n",
    "item_profitable = item_table.sort_values(\"Total Purchase Value\", ascending = False)[:5]\n",
    "\n",
    "#format\n",
    "item_profitable.style.format({\"Item Price\":\"${:,.2f}\", \"Total Purchase Value\":\"${:,.2f}\"})"
   ]
  }
 ],
 "metadata": {
  "anaconda-cloud": {},
  "kernel_info": {
   "name": "python3"
  },
  "kernelspec": {
   "display_name": "Python 3",
   "language": "python",
   "name": "python3"
  },
  "language_info": {
   "codemirror_mode": {
    "name": "ipython",
    "version": 3
   },
   "file_extension": ".py",
   "mimetype": "text/x-python",
   "name": "python",
   "nbconvert_exporter": "python",
   "pygments_lexer": "ipython3",
   "version": "3.7.4"
  },
  "latex_envs": {
   "LaTeX_envs_menu_present": true,
   "autoclose": false,
   "autocomplete": true,
   "bibliofile": "biblio.bib",
   "cite_by": "apalike",
   "current_citInitial": 1,
   "eqLabelWithNumbers": true,
   "eqNumInitial": 1,
   "hotkeys": {
    "equation": "Ctrl-E",
    "itemize": "Ctrl-I"
   },
   "labels_anchors": false,
   "latex_user_defs": false,
   "report_style_numbering": false,
   "user_envs_cfg": false
  },
  "nteract": {
   "version": "0.2.0"
  }
 },
 "nbformat": 4,
 "nbformat_minor": 2
}
